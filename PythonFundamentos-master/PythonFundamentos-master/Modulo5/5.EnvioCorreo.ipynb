{
 "cells": [
  {
   "cell_type": "code",
   "execution_count": 4,
   "id": "eca5fdee-4f76-4cd4-8241-7073ee8d546d",
   "metadata": {},
   "outputs": [],
   "source": [
    "import smtplib\n",
    "from email.mime.multipart import MIMEMultipart\n",
    "from email.mime.text import MIMEText\n",
    "from email.mime.application import MIMEApplication\n",
    "\n",
    "# https://support.google.com/accounts/answer/185833?visit_id=638287546952783050-2013646570&p=InvalidSecondFactor&rd=1"
   ]
  },
  {
   "cell_type": "code",
   "execution_count": 8,
   "id": "e403a3c8-ade0-4186-a94e-48ed5f8acb19",
   "metadata": {},
   "outputs": [
    {
     "name": "stdout",
     "output_type": "stream",
     "text": [
      "Correo enviado exitosamente\n"
     ]
    }
   ],
   "source": [
    "# Configuración del servidor y credenciales\n",
    "\n",
    "smtp_server = 'smtp.gmail.com'  # Cambia esto al servidor SMTP que estés utilizando\n",
    "smtp_port = 587  # Cambia esto al puerto adecuado\n",
    "sender_email = 'gonzalo.delgado.r@uni.pe'\n",
    "sender_password = 'ctnobmbijhhhtoex' #open('contrasena.txt').read().strip() #'tu_contraseña'\n",
    "\n",
    "# Detalles del correo electrónico\n",
    "receiver_email = 'gon2794@gmail.com'\n",
    "subject = 'Envio Reporte Titanic'\n",
    "body = 'Adjunto lo solicitado'\n",
    "\n",
    "# Crear el objeto MIMEMultipart\n",
    "msg = MIMEMultipart()\n",
    "msg['From'] = sender_email\n",
    "msg['To'] = receiver_email\n",
    "msg['Subject'] = subject\n",
    "msg.attach(MIMEText(body, 'plain'))\n",
    "\n",
    "\n",
    "# Adjuntar archivo\n",
    "file_path = './src/output/reporte_titanic/Reporte-female-clase1.xlsx'  # Cambia la ruta al archivo que quieras adjuntar\n",
    "with open(file_path, 'rb') as file:\n",
    "    attachment = MIMEApplication(file.read(), _subtype=\"xlsx\")\n",
    "    attachment.add_header('Content-Disposition', 'attachment', filename=file_path)\n",
    "    msg.attach(attachment)\n",
    "    \n",
    "# Iniciar la conexión con el servidor SMTP\n",
    "with smtplib.SMTP(smtp_server, smtp_port) as server:\n",
    "    server.starttls()  # Iniciar el modo seguro\n",
    "    server.login(sender_email, sender_password)\n",
    "    server.sendmail(sender_email, receiver_email, msg.as_string())\n",
    "\n",
    "print('Correo enviado exitosamente')\n"
   ]
  },
  {
   "cell_type": "code",
   "execution_count": null,
   "id": "21897ad7-d4f6-456c-a65b-810b00fa7992",
   "metadata": {},
   "outputs": [],
   "source": []
  }
 ],
 "metadata": {
  "kernelspec": {
   "display_name": "Python 3 (ipykernel)",
   "language": "python",
   "name": "python3"
  },
  "language_info": {
   "codemirror_mode": {
    "name": "ipython",
    "version": 3
   },
   "file_extension": ".py",
   "mimetype": "text/x-python",
   "name": "python",
   "nbconvert_exporter": "python",
   "pygments_lexer": "ipython3",
   "version": "3.10.9"
  }
 },
 "nbformat": 4,
 "nbformat_minor": 5
}
