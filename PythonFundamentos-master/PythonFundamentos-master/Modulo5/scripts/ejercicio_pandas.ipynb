{
 "cells": [
  {
   "cell_type": "code",
   "execution_count": null,
   "id": "c875a3fd-6f19-4f0d-86ff-aa40a81221e9",
   "metadata": {},
   "outputs": [],
   "source": [
    "# de mi archivo titanic, leeo los datos del archivo en un pandas y utilizo metodos shape, head para visualizar datos\n",
    "\n",
    "# Adem+as selecciono 4 columnas de mi df"
   ]
  },
  {
   "cell_type": "code",
   "execution_count": 2,
   "id": "f70ed492-7df1-4423-b3a2-c6ab6cdcbc72",
   "metadata": {},
   "outputs": [
    {
     "ename": "AttributeError",
     "evalue": "module 'pandas' has no attribute 'read_csv'",
     "output_type": "error",
     "traceback": [
      "\u001b[1;31m---------------------------------------------------------------------------\u001b[0m",
      "\u001b[1;31mAttributeError\u001b[0m                            Traceback (most recent call last)",
      "Cell \u001b[1;32mIn[2], line 6\u001b[0m\n\u001b[0;32m      2\u001b[0m \u001b[38;5;28;01mimport\u001b[39;00m \u001b[38;5;21;01msqlite3\u001b[39;00m\n\u001b[0;32m      4\u001b[0m path \u001b[38;5;241m=\u001b[39m \u001b[38;5;124m'\u001b[39m\u001b[38;5;124m../src/input/titanic.csv\u001b[39m\u001b[38;5;124m'\u001b[39m\n\u001b[1;32m----> 6\u001b[0m df \u001b[38;5;241m=\u001b[39m \u001b[43mpd\u001b[49m\u001b[38;5;241;43m.\u001b[39;49m\u001b[43mread_csv\u001b[49m(path, sep\u001b[38;5;241m=\u001b[39m\u001b[38;5;124m'\u001b[39m\u001b[38;5;124m,\u001b[39m\u001b[38;5;124m'\u001b[39m)\n\u001b[0;32m      7\u001b[0m df\u001b[38;5;241m.\u001b[39mhead(\u001b[38;5;241m2\u001b[39m)\n",
      "\u001b[1;31mAttributeError\u001b[0m: module 'pandas' has no attribute 'read_csv'"
     ]
    }
   ],
   "source": [
    "import pandas as pd\n",
    "import sqlite3\n",
    "\n",
    "path = '../src/input/titanic.csv'\n",
    "\n",
    "df = pd.read_csv(path, sep=',')\n",
    "df.head(2)"
   ]
  },
  {
   "cell_type": "code",
   "execution_count": null,
   "id": "6885a579-76fa-4acf-92b0-b2bf932ea903",
   "metadata": {},
   "outputs": [],
   "source": [
    "df.to_csv('./scripts/salida_datos/file.csv', index=False)"
   ]
  },
  {
   "cell_type": "code",
   "execution_count": null,
   "id": "79969377-45ae-433b-b9a9-667c0cfeb566",
   "metadata": {},
   "outputs": [],
   "source": [
    "df.to_excel('./scripts/salida_datos/file.xlsx', index=False)"
   ]
  },
  {
   "cell_type": "code",
   "execution_count": null,
   "id": "0cf73081-c811-43ff-9843-b43ca796cc8c",
   "metadata": {},
   "outputs": [],
   "source": [
    "with sqlite3.connect('./scripts/pandas.bd') as conn:   \n",
    "    # escribo datos en db\n",
    "    df.to_sql('titanic', conn, index=False, if_exists='replace')\n",
    "    \n",
    "    # recupero los datos\n",
    "    query = 'SELECT * FROM titanic'\n",
    "    df_titanic = pd.read_sql_query(query, conn)\n",
    "    pass"
   ]
  },
  {
   "cell_type": "code",
   "execution_count": null,
   "id": "94dd2549-2af0-4bab-80ac-6e391220c45d",
   "metadata": {},
   "outputs": [],
   "source": [
    "df_titanic.head()"
   ]
  }
 ],
 "metadata": {
  "kernelspec": {
   "display_name": "Python 3 (ipykernel)",
   "language": "python",
   "name": "python3"
  },
  "language_info": {
   "codemirror_mode": {
    "name": "ipython",
    "version": 3
   },
   "file_extension": ".py",
   "mimetype": "text/x-python",
   "name": "python",
   "nbconvert_exporter": "python",
   "pygments_lexer": "ipython3",
   "version": "3.10.9"
  }
 },
 "nbformat": 4,
 "nbformat_minor": 5
}
